{
 "cells": [
  {
   "cell_type": "code",
   "execution_count": null,
   "id": "260f89f6",
   "metadata": {},
   "outputs": [],
   "source": [
    "import pickle\n",
    "import numpy as np\n",
    "import pandas as pd\n",
    "from flask import Flask, request, render_template\n",
    "\n",
    "# Load the trained model\n",
    "model_path = \"churn_model.pkl\"\n",
    "with open(model_path, \"rb\") as file:\n",
    "    model = pickle.load(file)\n",
    "\n",
    "# Initialize Flask app\n",
    "app = Flask(__name__)\n",
    "\n",
    "@app.route(\"/\")\n",
    "def home():\n",
    "    return render_template(\"index.html\")\n",
    "\n",
    "@app.route(\"/predict\", methods=[\"GET\"])\n",
    "def predict():\n",
    "    try:\n",
    "        data = request.args.to_dict()\n",
    "        df = pd.DataFrame([data])\n",
    "        prediction = model.predict(df)\n",
    "        return str(prediction[0])  # Return plain text\n",
    "    except Exception as e:\n",
    "        return str(e)  # Return error as plain text\n",
    "\n",
    "if __name__ == \"__main__\":\n",
    "    app.run(debug=True)\n"
   ]
  }
 ],
 "metadata": {
  "kernelspec": {
   "display_name": "Python 3 (ipykernel)",
   "language": "python",
   "name": "python3"
  },
  "language_info": {
   "codemirror_mode": {
    "name": "ipython",
    "version": 3
   },
   "file_extension": ".py",
   "mimetype": "text/x-python",
   "name": "python",
   "nbconvert_exporter": "python",
   "pygments_lexer": "ipython3",
   "version": "3.11.4"
  }
 },
 "nbformat": 4,
 "nbformat_minor": 5
}
